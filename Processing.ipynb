{
  "nbformat": 4,
  "nbformat_minor": 4,
  "metadata": {
    "kernelspec": {
      "display_name": "Python 3",
      "language": "python",
      "name": "python3"
    },
    "language_info": {
      "codemirror_mode": {
        "name": "ipython",
        "version": 3
      },
      "file_extension": ".py",
      "mimetype": "text/x-python",
      "name": "python",
      "nbconvert_exporter": "python",
      "pygments_lexer": "ipython3",
      "version": "3.8.2"
    },
    "colab": {
      "name": "Processing.ipynb",
      "provenance": [],
      "collapsed_sections": [],
      "toc_visible": true
    }
  },
  "cells": [
    {
      "cell_type": "markdown",
      "metadata": {
        "id": "4PY3YZOvJTaR"
      },
      "source": [
        "## Loading Data"
      ]
    },
    {
      "cell_type": "code",
      "metadata": {
        "id": "cRPHIvZD6Moj"
      },
      "source": [
        "import pandas as pd\n",
        "import numpy as np\n",
        "from sklearn.model_selection import train_test_split\n",
        "\n",
        "df = pd.read_csv('./data_clear.csv')\n",
        "data = df['texts'].values.astype('U')\n",
        "label = df['label'].values"
      ],
      "execution_count": null,
      "outputs": []
    },
    {
      "cell_type": "code",
      "metadata": {
        "colab": {
          "base_uri": "https://localhost:8080/"
        },
        "id": "526XRZiF8Qe5",
        "outputId": "9b9ea9b6-574e-4cc0-93c1-ff6386092a4d"
      },
      "source": [
        "len(data)"
      ],
      "execution_count": null,
      "outputs": [
        {
          "output_type": "execute_result",
          "data": {
            "text/plain": [
              "30000"
            ]
          },
          "metadata": {
            "tags": []
          },
          "execution_count": 17
        }
      ]
    },
    {
      "cell_type": "code",
      "metadata": {
        "colab": {
          "base_uri": "https://localhost:8080/",
          "height": 146
        },
        "id": "LxpwL2VW7ucy",
        "outputId": "c415ce50-3472-47b1-dfbc-f679e6599fd3"
      },
      "source": [
        "data[0]"
      ],
      "execution_count": null,
      "outputs": [
        {
          "output_type": "execute_result",
          "data": {
            "application/vnd.google.colaboratory.intrinsic+json": {
              "type": "string"
            },
            "text/plain": [
              "'forma digitalmente assinado documento juiz novembro intime cite conciliação audiência consoante constante formulado defiro exposto acima promovente pleito necessário assim fica ser deve obrigação portanto objeto endereço consta contrato proferida vista tendo autor pretensão acolhimento merece cpc prevista artigo dispõe conforme mérito resolução extinção casos magistrado civil código novo possibilidade ante pedido apenas inicialmente desta motivo sendo nova município demanda deu juízo feito eis material erro existência síntese alegando contra id declaração embargos etc vistos sentença sa ré autora cep rua comarca cível especial juizado estado judiciário poder'"
            ]
          },
          "metadata": {
            "tags": []
          },
          "execution_count": 18
        }
      ]
    },
    {
      "cell_type": "code",
      "metadata": {
        "id": "pnn-jZMlGTqv"
      },
      "source": [
        "treino, teste, treino_y, teste_y = train_test_split(data, label, test_size=0.2, shuffle=True, random_state=0)"
      ],
      "execution_count": null,
      "outputs": []
    },
    {
      "cell_type": "markdown",
      "metadata": {
        "id": "ympSrAVVJiTY"
      },
      "source": [
        "## Make TFidf transformer"
      ]
    },
    {
      "cell_type": "code",
      "metadata": {
        "id": "Dl6ecTdAJiTZ"
      },
      "source": [
        "from sklearn.feature_extraction.text import TfidfVectorizer\n",
        "\n",
        "tfidf_transformer = TfidfVectorizer()\n",
        "X_train_tfidf = tfidf_transformer.fit_transform(treino)\n",
        "X_test_tfidf = tfidf_transformer.transform(teste)"
      ],
      "execution_count": null,
      "outputs": []
    },
    {
      "cell_type": "code",
      "metadata": {
        "colab": {
          "base_uri": "https://localhost:8080/"
        },
        "id": "uMIIzP9iJiTa",
        "outputId": "2d70e90c-5bdc-41d8-a036-74cc154cb4c0"
      },
      "source": [
        "X_train_tfidf.shape"
      ],
      "execution_count": null,
      "outputs": [
        {
          "output_type": "execute_result",
          "data": {
            "text/plain": [
              "(24000, 851)"
            ]
          },
          "metadata": {
            "tags": []
          },
          "execution_count": 23
        }
      ]
    },
    {
      "cell_type": "markdown",
      "metadata": {
        "id": "_gSs1T3KimfQ"
      },
      "source": [
        "## Train model of Random Forest"
      ]
    },
    {
      "cell_type": "code",
      "metadata": {
        "id": "yRiidduZpoTZ"
      },
      "source": [
        "from sklearn.ensemble import RandomForestClassifier\n",
        "import time\n",
        "clf = RandomForestClassifier(criterion='entropy', max_depth = 20)\n",
        "ini_rf = time.time()\n",
        "clf.fit(X_train_tfidf, treino_y)\n",
        "fim_rf = time.time()\n",
        "pred = clf.predict(X_test_tfidf)\n",
        "pre_rf = time.time()\n",
        "treino_rf = fim_rf - ini_rf\n",
        "time_prev_rf = pre_rf - fim_rf"
      ],
      "execution_count": null,
      "outputs": []
    },
    {
      "cell_type": "code",
      "metadata": {
        "colab": {
          "base_uri": "https://localhost:8080/"
        },
        "id": "Dy2laU4Ap0x3",
        "outputId": "159d612c-9017-4506-f0f7-d07da4be6eee"
      },
      "source": [
        "from sklearn.metrics import confusion_matrix, classification_report, accuracy_score\n",
        "print(confusion_matrix(teste_y, pred))"
      ],
      "execution_count": null,
      "outputs": [
        {
          "output_type": "stream",
          "text": [
            "[[563   0   0   4   1   0   3  10   8   0]\n",
            " [  4 585  34   5   1   1   1   0   0   1]\n",
            " [  0  38 538   1   1   0   0   0   0   0]\n",
            " [  8   7   1 546  12   1   1   2   0   2]\n",
            " [  1   7   7   9 604   0   0   6   0   0]\n",
            " [  0   1   1   0   0 554   0   3   0  30]\n",
            " [  4   0   0   1   0   0 568  16   1   1]\n",
            " [  7   1   0   5   8   3  14 550   2   0]\n",
            " [  4   0   0   0   0   0   1   4 623   0]\n",
            " [  0   0   0   0   0  12   0   2   0 571]]\n"
          ],
          "name": "stdout"
        }
      ]
    },
    {
      "cell_type": "code",
      "metadata": {
        "id": "cBZoZHFaL1QZ",
        "colab": {
          "base_uri": "https://localhost:8080/",
          "height": 265
        },
        "outputId": "ef17c4ca-40a2-4c50-9b16-503d049d10c1"
      },
      "source": [
        "import seaborn as sns\n",
        "ax = sns.heatmap(confusion_matrix(teste_y, pred), annot=True, fmt=\"d\")"
      ],
      "execution_count": null,
      "outputs": [
        {
          "output_type": "display_data",
          "data": {
            "image/png": "[encoded data removed]",
            "text/plain": [
              "<Figure size 432x288 with 2 Axes>"
            ]
          },
          "metadata": {
            "tags": [],
            "needs_background": "light"
          }
        }
      ]
    },
    {
      "cell_type": "code",
      "metadata": {
        "colab": {
          "base_uri": "https://localhost:8080/"
        },
        "id": "St-RTjWwVmNb",
        "outputId": "cba160a0-9c41-46f6-f815-5a56ec946c5b"
      },
      "source": [
        "print(classification_report(teste_y, pred))"
      ],
      "execution_count": null,
      "outputs": [
        {
          "output_type": "stream",
          "text": [
            "              precision    recall  f1-score   support\n",
            "\n",
            "         196       0.95      0.96      0.95       589\n",
            "         198       0.92      0.93      0.92       632\n",
            "         200       0.93      0.93      0.93       578\n",
            "         219       0.96      0.94      0.95       580\n",
            "         220       0.96      0.95      0.96       634\n",
            "         339       0.97      0.94      0.96       589\n",
            "         458       0.97      0.96      0.96       591\n",
            "         461       0.93      0.93      0.93       590\n",
            "         463       0.98      0.99      0.98       632\n",
            "         785       0.94      0.98      0.96       585\n",
            "\n",
            "    accuracy                           0.95      6000\n",
            "   macro avg       0.95      0.95      0.95      6000\n",
            "weighted avg       0.95      0.95      0.95      6000\n",
            "\n"
          ],
          "name": "stdout"
        }
      ]
    },
    {
      "cell_type": "markdown",
      "metadata": {
        "id": "ZbKGoIVzk68j"
      },
      "source": [
        "## Naive Bayes"
      ]
    },
    {
      "cell_type": "code",
      "metadata": {
        "id": "9ohRuP8Ik9fK"
      },
      "source": [
        "from sklearn.naive_bayes import MultinomialNB\n",
        "clf_nb = MultinomialNB()\n",
        "\n",
        "ini_nb = time.time()\n",
        "clf_nb.fit(X_train_tfidf, treino_y)\n",
        "fim_nb = time.time()\n",
        "pred_nb = clf_nb.predict(X_test_tfidf)\n",
        "pre_nb = time.time()\n",
        "treino_nb = fim_nb - ini_nb\n",
        "time_prev_nb = pre_nb - fim_nb\n"
      ],
      "execution_count": null,
      "outputs": []
    },
    {
      "cell_type": "code",
      "metadata": {
        "colab": {
          "base_uri": "https://localhost:8080/"
        },
        "id": "8QmOj4VGliBo",
        "outputId": "76126ba2-349c-4213-b416-3e49290ee930"
      },
      "source": [
        "print(confusion_matrix(teste_y, pred_nb))"
      ],
      "execution_count": null,
      "outputs": [
        {
          "output_type": "stream",
          "text": [
            "[[488  18   0   2   2   0  40  19  20   0]\n",
            " [  1 513  88  15   8   0   3   2   2   0]\n",
            " [  0  67 505   1   4   1   0   0   0   0]\n",
            " [  7  17   0 521  15   6   2   5   7   0]\n",
            " [  3  18  10  36 560   1   2   2   2   0]\n",
            " [  4   8   3   3   1 537   2   6   1  24]\n",
            " [  5   2   0   1   0   0 554  16  13   0]\n",
            " [  5   3   3  10  66   0  69 411  23   0]\n",
            " [  1   0   0   4   1   0   4  23 599   0]\n",
            " [  1   0   2   2   0  47   1   2   5 525]]\n"
          ],
          "name": "stdout"
        }
      ]
    },
    {
      "cell_type": "code",
      "metadata": {
        "id": "XeA3gEWKL9er",
        "colab": {
          "base_uri": "https://localhost:8080/",
          "height": 265
        },
        "outputId": "ae2d17e6-a31f-4ec8-e3a0-9b41ee367d44"
      },
      "source": [
        "ax = sns.heatmap(confusion_matrix(teste_y, pred_nb), annot=True, fmt=\"d\")"
      ],
      "execution_count": null,
      "outputs": [
        {
          "output_type": "display_data",
          "data": {
            "image/png": "[encoded data removed]",
            "text/plain": [
              "<Figure size 432x288 with 2 Axes>"
            ]
          },
          "metadata": {
            "tags": [],
            "needs_background": "light"
          }
        }
      ]
    },
    {
      "cell_type": "code",
      "metadata": {
        "colab": {
          "base_uri": "https://localhost:8080/"
        },
        "id": "lpmW1cgmlioy",
        "outputId": "8b100b1a-087d-4a07-a2c0-0951051ec61e"
      },
      "source": [
        "print(classification_report(teste_y, pred_nb))"
      ],
      "execution_count": null,
      "outputs": [
        {
          "output_type": "stream",
          "text": [
            "              precision    recall  f1-score   support\n",
            "\n",
            "         196       0.95      0.83      0.88       589\n",
            "         198       0.79      0.81      0.80       632\n",
            "         200       0.83      0.87      0.85       578\n",
            "         219       0.88      0.90      0.89       580\n",
            "         220       0.85      0.88      0.87       634\n",
            "         339       0.91      0.91      0.91       589\n",
            "         458       0.82      0.94      0.87       591\n",
            "         461       0.85      0.70      0.76       590\n",
            "         463       0.89      0.95      0.92       632\n",
            "         785       0.96      0.90      0.93       585\n",
            "\n",
            "    accuracy                           0.87      6000\n",
            "   macro avg       0.87      0.87      0.87      6000\n",
            "weighted avg       0.87      0.87      0.87      6000\n",
            "\n"
          ],
          "name": "stdout"
        }
      ]
    },
    {
      "cell_type": "markdown",
      "metadata": {
        "id": "MfrNzFBQmFwc"
      },
      "source": [
        "## Adaboost"
      ]
    },
    {
      "cell_type": "code",
      "metadata": {
        "id": "Siahv8t7ma9o"
      },
      "source": [
        "from sklearn.tree import DecisionTreeClassifier\n",
        "from sklearn.ensemble import AdaBoostClassifier\n",
        "\n",
        "clf_tree = DecisionTreeClassifier(criterion='entropy', max_depth = 20)\n",
        "clf_ada_tree = AdaBoostClassifier(clf_tree)\n",
        "ini_ada_tree = time.time()\n",
        "clf_ada_tree.fit(X_train_tfidf, treino_y)\n",
        "fim_ada_tree = time.time()\n",
        "pred_ada_tree = clf_ada_tree.predict(X_test_tfidf)\n",
        "pre_ada_tree = time.time()\n",
        "treino_ada_tree = fim_ada_tree - ini_ada_tree\n",
        "time_prev_ada_tree = pre_ada_tree - fim_ada_tree\n"
      ],
      "execution_count": null,
      "outputs": []
    },
    {
      "cell_type": "code",
      "metadata": {
        "id": "xA7JAtCTMDse",
        "colab": {
          "base_uri": "https://localhost:8080/",
          "height": 265
        },
        "outputId": "6e2a2bf8-f7d8-4aa8-b04d-8f6d5161f678"
      },
      "source": [
        "ax = sns.heatmap(confusion_matrix(teste_y, pred_ada_tree), annot=True, fmt=\"d\")"
      ],
      "execution_count": null,
      "outputs": [
        {
          "output_type": "display_data",
          "data": {
            "image/png": "[encoded data removed]",
            "text/plain": [
              "<Figure size 432x288 with 2 Axes>"
            ]
          },
          "metadata": {
            "tags": [],
            "needs_background": "light"
          }
        }
      ]
    },
    {
      "cell_type": "code",
      "metadata": {
        "colab": {
          "base_uri": "https://localhost:8080/"
        },
        "id": "UUP0VLAyma9q",
        "outputId": "90396755-de04-4e42-e425-0590ad13281e"
      },
      "source": [
        "print(confusion_matrix(teste_y, pred_ada_tree))"
      ],
      "execution_count": null,
      "outputs": [
        {
          "output_type": "stream",
          "text": [
            "[[562   3   0   0   0   3   4  10   7   0]\n",
            " [  3 569  47   6   1   2   1   2   0   1]\n",
            " [  0  54 523   1   0   0   0   0   0   0]\n",
            " [  5   8   0 550  11   0   2   2   0   2]\n",
            " [  0   4   9  13 601   1   1   4   0   1]\n",
            " [  0   2   2   0   0 560   0   2   0  23]\n",
            " [  2   0   0   1   0   0 571  16   1   0]\n",
            " [  2   3   1   2   9   2  13 557   1   0]\n",
            " [  3   1   0   1   0   1   1   4 621   0]\n",
            " [  0   1   0   0   0  13   0   1   0 570]]\n"
          ],
          "name": "stdout"
        }
      ]
    },
    {
      "cell_type": "code",
      "metadata": {
        "colab": {
          "base_uri": "https://localhost:8080/"
        },
        "id": "JikKgSmIma9u",
        "outputId": "075f00a9-ed9c-46c5-ac4a-1023e7e64fcd"
      },
      "source": [
        "print(classification_report(teste_y, pred_ada_tree))"
      ],
      "execution_count": null,
      "outputs": [
        {
          "output_type": "stream",
          "text": [
            "              precision    recall  f1-score   support\n",
            "\n",
            "         196       0.97      0.95      0.96       589\n",
            "         198       0.88      0.90      0.89       632\n",
            "         200       0.90      0.90      0.90       578\n",
            "         219       0.96      0.95      0.95       580\n",
            "         220       0.97      0.95      0.96       634\n",
            "         339       0.96      0.95      0.96       589\n",
            "         458       0.96      0.97      0.96       591\n",
            "         461       0.93      0.94      0.94       590\n",
            "         463       0.99      0.98      0.98       632\n",
            "         785       0.95      0.97      0.96       585\n",
            "\n",
            "    accuracy                           0.95      6000\n",
            "   macro avg       0.95      0.95      0.95      6000\n",
            "weighted avg       0.95      0.95      0.95      6000\n",
            "\n"
          ],
          "name": "stdout"
        }
      ]
    },
    {
      "cell_type": "code",
      "metadata": {
        "colab": {
          "base_uri": "https://localhost:8080/"
        },
        "id": "SiZya-A5us0G",
        "outputId": "48bef0a3-da68-4fba-b52b-08b468f67595"
      },
      "source": [
        "clf_ada_tree.get_params(deep=True)"
      ],
      "execution_count": null,
      "outputs": [
        {
          "output_type": "execute_result",
          "data": {
            "text/plain": [
              "{'algorithm': 'SAMME.R',\n",
              " 'base_estimator': DecisionTreeClassifier(ccp_alpha=0.0, class_weight=None, criterion='entropy',\n",
              "                        max_depth=20, max_features=None, max_leaf_nodes=None,\n",
              "                        min_impurity_decrease=0.0, min_impurity_split=None,\n",
              "                        min_samples_leaf=1, min_samples_split=2,\n",
              "                        min_weight_fraction_leaf=0.0, presort='deprecated',\n",
              "                        random_state=None, splitter='best'),\n",
              " 'base_estimator__ccp_alpha': 0.0,\n",
              " 'base_estimator__class_weight': None,\n",
              " 'base_estimator__criterion': 'entropy',\n",
              " 'base_estimator__max_depth': 20,\n",
              " 'base_estimator__max_features': None,\n",
              " 'base_estimator__max_leaf_nodes': None,\n",
              " 'base_estimator__min_impurity_decrease': 0.0,\n",
              " 'base_estimator__min_impurity_split': None,\n",
              " 'base_estimator__min_samples_leaf': 1,\n",
              " 'base_estimator__min_samples_split': 2,\n",
              " 'base_estimator__min_weight_fraction_leaf': 0.0,\n",
              " 'base_estimator__presort': 'deprecated',\n",
              " 'base_estimator__random_state': None,\n",
              " 'base_estimator__splitter': 'best',\n",
              " 'learning_rate': 1.0,\n",
              " 'n_estimators': 50,\n",
              " 'random_state': None}"
            ]
          },
          "metadata": {
            "tags": []
          },
          "execution_count": 40
        }
      ]
    },
    {
      "cell_type": "markdown",
      "metadata": {
        "id": "MVyRct5Lqgl-"
      },
      "source": [
        "## KNN"
      ]
    },
    {
      "cell_type": "code",
      "metadata": {
        "id": "yqo0Vjw1qjx6"
      },
      "source": [
        "from sklearn.neighbors import KNeighborsClassifier\n",
        "\n",
        "clf_knn = KNeighborsClassifier(n_neighbors = 5)\n",
        "ini_knn = time.time()\n",
        "clf_knn.fit(X_train_tfidf, treino_y)\n",
        "fim_knn = time.time()\n",
        "pred_knn = clf_knn.predict(X_test_tfidf)\n",
        "pre_knn = time.time()\n",
        "treino_knn = fim_knn - ini_knn\n",
        "time_prev_knn = pre_knn - fim_knn"
      ],
      "execution_count": null,
      "outputs": []
    },
    {
      "cell_type": "code",
      "metadata": {
        "id": "WSv4U36vMHv3",
        "colab": {
          "base_uri": "https://localhost:8080/",
          "height": 265
        },
        "outputId": "7656ec16-65f9-4cb9-e84b-e38fe872daa9"
      },
      "source": [
        "ax = sns.heatmap(confusion_matrix(teste_y, pred_knn), annot=True, fmt=\"d\")"
      ],
      "execution_count": null,
      "outputs": [
        {
          "output_type": "display_data",
          "data": {
            "image/png": "[encoded data removed]",
            "text/plain": [
              "<Figure size 432x288 with 2 Axes>"
            ]
          },
          "metadata": {
            "tags": [],
            "needs_background": "light"
          }
        }
      ]
    },
    {
      "cell_type": "code",
      "metadata": {
        "colab": {
          "base_uri": "https://localhost:8080/"
        },
        "id": "z_BLgf6iqjeX",
        "outputId": "87ae88cc-51cc-4b63-97fb-22e6ad57c498"
      },
      "source": [
        "print(confusion_matrix(teste_y, pred_knn))"
      ],
      "execution_count": null,
      "outputs": [
        {
          "output_type": "stream",
          "text": [
            "[[558   3   1   0   1   0  11   5  10   0]\n",
            " [  4 544  53  11   8   4   3   0   3   2]\n",
            " [  1  42 523   1   6   1   2   0   0   2]\n",
            " [  5   5   0 556   9   1   2   0   2   0]\n",
            " [  6   1   5  48 569   1   1   1   2   0]\n",
            " [  1   3   2   6   4 547   1   2   1  22]\n",
            " [  4   0   0   2   0   0 572  10   2   1]\n",
            " [ 13   4   4  10  28   5  27 482  17   0]\n",
            " [  3   0   0   0   0   1   2   3 623   0]\n",
            " [  2   0   0   1   0  19   1   1   1 560]]\n"
          ],
          "name": "stdout"
        }
      ]
    },
    {
      "cell_type": "code",
      "metadata": {
        "colab": {
          "base_uri": "https://localhost:8080/"
        },
        "id": "qeOZJDN6qjAl",
        "outputId": "908b6983-57a9-4c0c-c944-0bf370e2a6e7"
      },
      "source": [
        "print(classification_report(teste_y, pred_knn))"
      ],
      "execution_count": null,
      "outputs": [
        {
          "output_type": "stream",
          "text": [
            "              precision    recall  f1-score   support\n",
            "\n",
            "         196       0.93      0.95      0.94       589\n",
            "         198       0.90      0.86      0.88       632\n",
            "         200       0.89      0.90      0.90       578\n",
            "         219       0.88      0.96      0.92       580\n",
            "         220       0.91      0.90      0.90       634\n",
            "         339       0.94      0.93      0.94       589\n",
            "         458       0.92      0.97      0.94       591\n",
            "         461       0.96      0.82      0.88       590\n",
            "         463       0.94      0.99      0.96       632\n",
            "         785       0.95      0.96      0.96       585\n",
            "\n",
            "    accuracy                           0.92      6000\n",
            "   macro avg       0.92      0.92      0.92      6000\n",
            "weighted avg       0.92      0.92      0.92      6000\n",
            "\n"
          ],
          "name": "stdout"
        }
      ]
    },
    {
      "cell_type": "markdown",
      "metadata": {
        "id": "2LE_9Q49j4P2"
      },
      "source": [
        "## SVM"
      ]
    },
    {
      "cell_type": "code",
      "metadata": {
        "id": "bR6eH3JZj6JQ"
      },
      "source": [
        "from sklearn.svm import SVC\n",
        "clf_svm = SVC()\n",
        "ini_svm = time.time()\n",
        "clf_svm.fit(X_train_tfidf, treino_y)\n",
        "fim_svm = time.time()\n",
        "pred_svm = clf_svm.predict(X_test_tfidf)\n",
        "pre_svm = time.time()\n",
        "treino_svm = fim_svm - ini_svm\n",
        "time_prev_svm = pre_svm - fim_svm"
      ],
      "execution_count": null,
      "outputs": []
    },
    {
      "cell_type": "code",
      "metadata": {
        "id": "CG6fx9AYMLy7",
        "colab": {
          "base_uri": "https://localhost:8080/",
          "height": 265
        },
        "outputId": "516bb60a-640b-40c7-a8ac-7e0a23b6c8b9"
      },
      "source": [
        "ax = sns.heatmap(confusion_matrix(teste_y, pred_svm), annot=True, fmt=\"d\")"
      ],
      "execution_count": null,
      "outputs": [
        {
          "output_type": "display_data",
          "data": {
            "image/png": "[encoded data removed]",
            "text/plain": [
              "<Figure size 432x288 with 2 Axes>"
            ]
          },
          "metadata": {
            "tags": [],
            "needs_background": "light"
          }
        }
      ]
    },
    {
      "cell_type": "code",
      "metadata": {
        "colab": {
          "base_uri": "https://localhost:8080/"
        },
        "id": "E-CW63zhkHF6",
        "outputId": "f5186578-885d-4e5c-8610-bdd582a5cecc"
      },
      "source": [
        "print(confusion_matrix(teste_y, pred_svm))"
      ],
      "execution_count": null,
      "outputs": [
        {
          "output_type": "stream",
          "text": [
            "[[568   0   0   0   0   0   5  10   6   0]\n",
            " [  2 598  27   3   2   0   0   0   0   0]\n",
            " [  0  26 548   1   2   1   0   0   0   0]\n",
            " [  6   6   0 559   5   1   1   1   1   0]\n",
            " [  0   1   6   5 614   1   1   5   0   1]\n",
            " [  0   0   3   0   0 565   0   3   0  18]\n",
            " [  4   0   0   1   0   2 575   9   0   0]\n",
            " [  4   0   1   2   7   0   7 567   2   0]\n",
            " [  4   0   0   0   0   0   1   5 622   0]\n",
            " [  0   0   0   1   0  11   0   2   0 571]]\n"
          ],
          "name": "stdout"
        }
      ]
    },
    {
      "cell_type": "code",
      "metadata": {
        "colab": {
          "base_uri": "https://localhost:8080/"
        },
        "id": "H_2vXd61kH3V",
        "outputId": "a1742353-0f15-4fe4-f7cd-cc12f4fff4d0"
      },
      "source": [
        "print(classification_report(teste_y, pred_svm))"
      ],
      "execution_count": null,
      "outputs": [
        {
          "output_type": "stream",
          "text": [
            "              precision    recall  f1-score   support\n",
            "\n",
            "         196       0.97      0.96      0.97       589\n",
            "         198       0.95      0.95      0.95       632\n",
            "         200       0.94      0.95      0.94       578\n",
            "         219       0.98      0.96      0.97       580\n",
            "         220       0.97      0.97      0.97       634\n",
            "         339       0.97      0.96      0.97       589\n",
            "         458       0.97      0.97      0.97       591\n",
            "         461       0.94      0.96      0.95       590\n",
            "         463       0.99      0.98      0.98       632\n",
            "         785       0.97      0.98      0.97       585\n",
            "\n",
            "    accuracy                           0.96      6000\n",
            "   macro avg       0.96      0.96      0.96      6000\n",
            "weighted avg       0.96      0.96      0.96      6000\n",
            "\n"
          ],
          "name": "stdout"
        }
      ]
    },
    {
      "cell_type": "markdown",
      "metadata": {
        "id": "rxrFFGeqefzk"
      },
      "source": [
        "## Learning with MLP"
      ]
    },
    {
      "cell_type": "code",
      "metadata": {
        "colab": {
          "base_uri": "https://localhost:8080/"
        },
        "id": "p9Lgtknn9ipL",
        "outputId": "f927d4d7-dfe2-4494-9caf-d4e9ef06f842"
      },
      "source": [
        "mapping = {}\n",
        "for x in range(len(np.unique(treino_y))):\n",
        "    mapping[np.unique(treino_y)[x]] = x\n",
        "print(mapping)"
      ],
      "execution_count": null,
      "outputs": [
        {
          "output_type": "stream",
          "text": [
            "{196: 0, 198: 1, 200: 2, 219: 3, 220: 4, 339: 5, 458: 6, 461: 7, 463: 8, 785: 9}\n"
          ],
          "name": "stdout"
        }
      ]
    },
    {
      "cell_type": "code",
      "metadata": {
        "id": "oka6YDDM93-u"
      },
      "source": [
        "treino_mlp_y = []\n",
        "teste_mlp_y = []\n",
        "for x in range(len(treino_y)):\n",
        "    treino_mlp_y.append(mapping[treino_y[x]])\n",
        "for x in range(len(teste_y)):\n",
        "    teste_mlp_y.append(mapping[teste_y[x]])\n",
        "treino_mlp_y = np.array(treino_mlp_y)\n",
        "teste_mlp_y = np.array(teste_mlp_y)"
      ],
      "execution_count": null,
      "outputs": []
    },
    {
      "cell_type": "code",
      "metadata": {
        "colab": {
          "base_uri": "https://localhost:8080/"
        },
        "id": "6Ag1FtwNenuD",
        "outputId": "7e8bb867-2592-4c69-e358-bbc01932f345"
      },
      "source": [
        "import tensorflow\n",
        "\n",
        "modelo = tensorflow.keras.Sequential()\n",
        "#modelo.add(tensorflow.keras.layers.Embedding(input_dim=X_train_tfidf.shape[1]+1, output_dim=100))\n",
        "modelo.add(tensorflow.keras.layers.Dense(X_train_tfidf.shape[1], activation='relu', dtype= 'float32', input_dim= X_train_tfidf.shape[1]))\n",
        "modelo.add(tensorflow.keras.layers.Dense(400, activation='relu', dtype= 'float32'))\n",
        "modelo.add(tensorflow.keras.layers.Dropout(rate=0.4, dtype= 'float32'))\n",
        "modelo.add(tensorflow.keras.layers.Dense(160, activation='relu', dtype= 'float32'))\n",
        "modelo.add(tensorflow.keras.layers.Dropout(rate=0.4, dtype= 'float32'))\n",
        "modelo.add(tensorflow.keras.layers.Dense(120, activation='relu', dtype= 'float32'))\n",
        "modelo.add(tensorflow.keras.layers.Dropout(rate=0.4, dtype= 'float32'))\n",
        "modelo.add(tensorflow.keras.layers.Dense(60, activation='relu', dtype= 'float32'))\n",
        "modelo.add(tensorflow.keras.layers.Dense(30, activation='relu', dtype= 'float32'))\n",
        "modelo.add(tensorflow.keras.layers.Dense(len(mapping), activation='softmax', dtype= 'float32'))\n",
        "\n",
        "adam = tensorflow.keras.optimizers.Adam(lr=0.002)\n",
        "early_stopping = tensorflow.keras.callbacks.EarlyStopping(patience=4)\n",
        "model_checkpoint = tensorflow.keras.callbacks.ModelCheckpoint(filepath = './cnn_embedding.h5', monitor='val_accuracy', save_best_only=True)\n",
        "\n",
        "modelo.compile(optimizer=adam, \n",
        "               loss='sparse_categorical_crossentropy',\n",
        "               metrics=['accuracy'])\n",
        "\n",
        "historico = modelo.fit(X_train_tfidf.toarray(), treino_mlp_y, \n",
        "                       batch_size = 40,\n",
        "                       epochs=10, validation_split=0.2,\n",
        "                       callbacks= [early_stopping, model_checkpoint])"
      ],
      "execution_count": null,
      "outputs": [
        {
          "output_type": "stream",
          "text": [
            "Epoch 1/10\n",
            "480/480 [==============================] - 8s 16ms/step - loss: 1.0141 - accuracy: 0.6224 - val_loss: 0.2419 - val_accuracy: 0.9360\n",
            "Epoch 2/10\n",
            "480/480 [==============================] - 7s 14ms/step - loss: 0.2145 - accuracy: 0.9449 - val_loss: 0.2113 - val_accuracy: 0.9496\n",
            "Epoch 3/10\n",
            "480/480 [==============================] - 7s 14ms/step - loss: 0.1533 - accuracy: 0.9648 - val_loss: 0.2257 - val_accuracy: 0.9506\n",
            "Epoch 4/10\n",
            "480/480 [==============================] - 7s 14ms/step - loss: 0.1266 - accuracy: 0.9696 - val_loss: 0.2262 - val_accuracy: 0.9531\n",
            "Epoch 5/10\n",
            "480/480 [==============================] - 7s 14ms/step - loss: 0.1062 - accuracy: 0.9751 - val_loss: 0.2532 - val_accuracy: 0.9506\n",
            "Epoch 6/10\n",
            "480/480 [==============================] - 7s 14ms/step - loss: 0.0842 - accuracy: 0.9807 - val_loss: 0.2602 - val_accuracy: 0.9485\n"
          ],
          "name": "stdout"
        }
      ]
    },
    {
      "cell_type": "code",
      "metadata": {
        "colab": {
          "base_uri": "https://localhost:8080/"
        },
        "id": "1flaSXRDhYgr",
        "outputId": "40984058-0e4c-4a03-9e6b-43b4ca3ad230"
      },
      "source": [
        "%%time\n",
        "prev_mlp = np.argmax(modelo.predict(X_test_tfidf.toarray()), axis=1)"
      ],
      "execution_count": null,
      "outputs": [
        {
          "output_type": "stream",
          "text": [
            "CPU times: user 1.09 s, sys: 56 ms, total: 1.15 s\n",
            "Wall time: 799 ms\n"
          ],
          "name": "stdout"
        }
      ]
    },
    {
      "cell_type": "code",
      "metadata": {
        "id": "7xCO-vxuMPsS",
        "colab": {
          "base_uri": "https://localhost:8080/",
          "height": 265
        },
        "outputId": "2c5217cf-5fc7-4b7a-a4fd-424efd5ca844"
      },
      "source": [
        "ax = sns.heatmap(confusion_matrix(teste_mlp_y, prev_mlp), annot=True, fmt=\"d\")"
      ],
      "execution_count": null,
      "outputs": [
        {
          "output_type": "display_data",
          "data": {
            "image/png": "[encoded data removed]",
            "text/plain": [
              "<Figure size 432x288 with 2 Axes>"
            ]
          },
          "metadata": {
            "tags": [],
            "needs_background": "light"
          }
        }
      ]
    },
    {
      "cell_type": "code",
      "metadata": {
        "colab": {
          "base_uri": "https://localhost:8080/"
        },
        "id": "VLz90PlxhkCu",
        "outputId": "abfbc5fe-fba9-4aff-b20d-f9e4c8c41b24"
      },
      "source": [
        "print(confusion_matrix(teste_mlp_y, prev_mlp))"
      ],
      "execution_count": null,
      "outputs": [
        {
          "output_type": "stream",
          "text": [
            "[[553   0   0   4   3   0   8  15   6   0]\n",
            " [  3 561  60   1   3   3   0   0   1   0]\n",
            " [  0  23 549   1   4   1   0   0   0   0]\n",
            " [  3   8   0 553   9   1   1   2   2   1]\n",
            " [  0   3   8   9 606   0   0   8   0   0]\n",
            " [  0   0   4   2   2 555   0   4   0  22]\n",
            " [  2   0   1   1   0   0 570  15   0   2]\n",
            " [  8   0   1   4  12   0  18 546   1   0]\n",
            " [  3   0   1   0   0   0   2   5 621   0]\n",
            " [  0   0   0   1   0  10   1   1   0 572]]\n"
          ],
          "name": "stdout"
        }
      ]
    },
    {
      "cell_type": "code",
      "metadata": {
        "colab": {
          "base_uri": "https://localhost:8080/"
        },
        "id": "iRPgZNuVhk5S",
        "outputId": "c79abe53-7b60-423a-9f13-165b6f2b5f13"
      },
      "source": [
        "print(classification_report(teste_mlp_y, prev_mlp))"
      ],
      "execution_count": null,
      "outputs": [
        {
          "output_type": "stream",
          "text": [
            "              precision    recall  f1-score   support\n",
            "\n",
            "           0       0.97      0.94      0.95       589\n",
            "           1       0.94      0.89      0.91       632\n",
            "           2       0.88      0.95      0.91       578\n",
            "           3       0.96      0.95      0.96       580\n",
            "           4       0.95      0.96      0.95       634\n",
            "           5       0.97      0.94      0.96       589\n",
            "           6       0.95      0.96      0.96       591\n",
            "           7       0.92      0.93      0.92       590\n",
            "           8       0.98      0.98      0.98       632\n",
            "           9       0.96      0.98      0.97       585\n",
            "\n",
            "    accuracy                           0.95      6000\n",
            "   macro avg       0.95      0.95      0.95      6000\n",
            "weighted avg       0.95      0.95      0.95      6000\n",
            "\n"
          ],
          "name": "stdout"
        }
      ]
    },
    {
      "cell_type": "code",
      "metadata": {
        "colab": {
          "base_uri": "https://localhost:8080/"
        },
        "id": "NxTfI4gAx18O",
        "outputId": "cfb9a220-1803-4148-8c84-1fb10d30d453"
      },
      "source": [
        "print('Random Forest times: train: '+str(treino_rf)+ ' prediction: '+str(time_prev_rf))\n",
        "print('KNN times: train: '+str(treino_knn)+ ' prediction: '+str(time_prev_knn))\n",
        "print('Naive Bayes times: train: '+str(treino_nb)+ ' prediction: '+str(time_prev_nb))\n",
        "print('Adaboost tree: times: train: '+str(treino_ada_tree)+ ' prediction: '+str(time_prev_ada_tree))\n",
        "print('SVM times: train: '+str(treino_svm)+ ' prediction: '+str(time_prev_svm))"
      ],
      "execution_count": null,
      "outputs": [
        {
          "output_type": "stream",
          "text": [
            "Random Forest times: train: 86.4323673248291 prediction: 0.24769353866577148\n",
            "KNN times: train: 0.023966312408447266 prediction: 20.796252012252808\n",
            "Naive Bayes times: train: 0.055977582931518555 prediction: 0.008681058883666992\n",
            "Adaboost tree: times: train: 1437.0614805221558 prediction: 0.38110852241516113\n",
            "SVM times: train: 231.9555778503418 prediction: 79.28628158569336\n"
          ],
          "name": "stdout"
        }
      ]
    },
    {
      "cell_type": "code",
      "metadata": {
        "id": "W9TC_OypEytE"
      },
      "source": [
        ""
      ],
      "execution_count": null,
      "outputs": []
    }
  ]
}
